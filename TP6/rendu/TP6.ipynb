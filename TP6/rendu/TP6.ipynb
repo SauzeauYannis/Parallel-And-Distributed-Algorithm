{
  "nbformat": 4,
  "nbformat_minor": 0,
  "metadata": {
    "colab": {
      "name": "TP6.ipynb",
      "private_outputs": true,
      "provenance": [],
      "collapsed_sections": []
    },
    "kernelspec": {
      "name": "python3",
      "display_name": "Python 3"
    },
    "accelerator": "GPU"
  },
  "cells": [
    {
      "cell_type": "markdown",
      "metadata": {
        "id": "JWkf2weR0V4g"
      },
      "source": [
        "# <font color=green>APR - Travaux Pratiques n°6.</font>\n",
        "\n",
        "> Ce TP concerne la programmation CUDA. Les mêmes commentaires que ceux des derniers TP s’appliquent ici aussi. \n",
        "Dans cette séance, l’objectif est de pratiquer la programmation CUDA, autour des patrons en temps constants (sur machine PRAM). Le premier exercice est très proche du troisième exemple du cours, et ne devrait pas poser de difficulté. Le second exercice est un autre exemple de MAP qui vous semblera un peu bizarre voire étrange, mais sera ensuite utilisé dans les deux exercices suivants qui consistent à déplacer des morceaux d’images. Le dernier exercice, légèrement plus difficile, consistera à utiliser les contraintes matérielles d’un GPU au mieux, c’est-à-dire ici le principe d’accès coalescents à la mémoire globale.\n",
        ">\n",
        "> **<font color=pink>N'oubliez d'exécuter les deux premières cellules de code afin d'installer l'extension CUDA et de vérifier son bon fonctionnement.</font>**\n",
        "\n",
        "## <font color=green>Installation du sous-sytème</font>"
      ]
    },
    {
      "cell_type": "code",
      "metadata": {
        "id": "4NuCP18Hj2kM"
      },
      "source": [
        "# vérifions l'installation du SDK Cuda ...\n",
        "!/usr/local/cuda/bin/nvcc --version\n",
        "!g++ --version\n",
        "!cmake --version"
      ],
      "execution_count": null,
      "outputs": []
    },
    {
      "cell_type": "code",
      "metadata": {
        "id": "h3LoyZjGkHyw"
      },
      "source": [
        "# Installons l'extension CUDA (n'hésitez par à aller sur la page GitHub ...)\n",
        "!pip install git+git://github.com/andreinechaev/nvcc4jupyter.git &> /dev/null\n",
        "%load_ext nvcc_plugin\n",
        "# Installons gdown pour charger fichier depuis Google Drive\n",
        "!pip install --upgrade --no-cache-dir gdown &> /dev/null\n",
        "# Installons g++-8\n",
        "!sudo apt install g++-8 &> /dev/null\n",
        "!sudo update-alternatives --install /usr/bin/gcc gcc /usr/bin/gcc-7 700 --slave /usr/bin/g++ g++ /usr/bin/g++-7\n",
        "!sudo update-alternatives --install /usr/bin/gcc gcc /usr/bin/gcc-8 800 --slave /usr/bin/g++ g++ /usr/bin/g++-8\n",
        "# importation Python pour charger/afficher des images\n",
        "from google.colab.patches import cv2_imshow\n",
        "import cv2\n",
        "import gdown\n",
        "def afficher(file, width):\n",
        "  img = cv2.imread(file)\n",
        "  height = int(img.shape[0] * width / float(img.shape[1]))\n",
        "  resized = cv2.resize(img, (width, height), interpolation = cv2.INTER_AREA) \n",
        "  cv2_imshow(resized)"
      ],
      "execution_count": null,
      "outputs": []
    },
    {
      "cell_type": "markdown",
      "metadata": {
        "id": "uhLcqRBK1i_R"
      },
      "source": [
        "---\n",
        "# <font color=green>TP</font>\n",
        "> L'installation s'est bien déroulée ? Le test est concluant ? Parfait, maintenant au travail !\n",
        ">\n",
        "> En premier, il faut charger le TP6 depuis le drive Google ... Vous pouvez charger ce fichier (*i.e.* le premier, le second contient des images) sur votre ordinateur pour étudiez les interfaces, bien que la plupart soient dans le cours ...\n"
      ]
    },
    {
      "cell_type": "code",
      "metadata": {
        "id": "KBqMci_YlFND"
      },
      "source": [
        "# Chargeons le TP6\n",
        "!rm -rf TP6\n",
        "!gdown https://drive.google.com/uc?id=1UXBWVkJR_pUJJDkuAa_YIPYb08oPIaTI\n",
        "!unzip -oqq TP6.zip"
      ],
      "execution_count": null,
      "outputs": []
    },
    {
      "cell_type": "markdown",
      "metadata": {
        "id": "hOU55HQNlIS4"
      },
      "source": [
        "\n",
        ">\n",
        "> Le code du TP est dans le répertoire TP6. Vous pouvez le vérifier dans une cellule en tapant \" !ls TP6\" par exemple ...\n",
        ">\n",
        "> Nous démarrons avec l'exercice 1. \n",
        "---\n",
        "## <font color=green>Exercice 1</font>\n",
        ">\n",
        "> **L’objectif de la fonction à écrire est de calculer la somme de deux tableaux, ici d’entiers (mais utilisez une version générique pour réutilisation future). La différence avec la version du cours est qu’ici la taille des tableaux n’est pas toujours un multiple du nombre de threads par bloc. Conséquence : il faut vérifier la pertinence de l’écriture dans le noyau … Votre version sera implémentée dans une fonction réutilisable, utilisant donc un foncteur (donné pour l’exercice).**\n",
        ">\n",
        ">\n",
        "> ### <font color=green>Partie étudiante</font>\n",
        ">\n",
        "> La partie ci-dessous est pour vous. Répondez à l'exercice dans la cellule suivante. \n",
        ">\n",
        "> Pour sauvegarder, n'oubliez pas de terminer par \"Shift-Entrée\" ... \n",
        ">\n",
        "> **<font color=pink>Attention : ne touchez pas à la première ligne !</font>**"
      ]
    },
    {
      "cell_type": "code",
      "metadata": {
        "id": "EJiE3XyhoG3V"
      },
      "source": [
        "%%cuda --name ../TP6/student/exo1/BinaryMap.h\n",
        "#pragma once\n",
        "#include <OPP_cuda.cuh>\n",
        "\n",
        "namespace\n",
        "{\n",
        "\ttemplate<typename T, typename Functor>\n",
        "\t__global__\n",
        "\tvoid kernelBinaryMap(\n",
        "\t\t\tconst T* const dev_a, \n",
        "\t\t\tconst T* const dev_b, \n",
        "\t\t\tT* const dev_result,\n",
        "\t\t\tconst Functor& functor,\n",
        "\t\t\tconst unsigned size\n",
        "\t) {\n",
        "\t\t\tconst unsigned tid = blockIdx.x * blockDim.x + threadIdx.x;\n",
        "\t\t\t\n",
        "\t\t\tif (tid < size)\n",
        "\t \t\t\tdev_result[tid] = functor(dev_a[tid], dev_b[tid]);\t\t\t\n",
        "\t}\n",
        "\n",
        "\ttemplate<typename T, typename Functor>\n",
        "\tvoid BinaryMap(\n",
        "\t\tOPP::CUDA::DeviceBuffer<int>& dev_a,\n",
        "\t\tOPP::CUDA::DeviceBuffer<int>& dev_b,\n",
        "\t\tOPP::CUDA::DeviceBuffer<int>& dev_result,\n",
        "\t\tFunctor&& functor\n",
        "\t) {\n",
        "\t\t\tconst unsigned size = dev_a.getNbElements();\n",
        "\t\t\t\n",
        "\t\t\tconst dim3 threads(1024);\n",
        "\t\t\tconst dim3 blocs((size + 1024 - 1) / 1024);\n",
        "\t\t\t\n",
        "\t\t\tkernelBinaryMap<<<blocs, threads>>>(\n",
        "\t\t\t\t\tdev_a.getDevicePointer(),\n",
        "\t\t\t\t\tdev_b.getDevicePointer(),\n",
        "\t\t\t\t\tdev_result.getDevicePointer(),\n",
        "\t\t\t\t\tfunctor,\n",
        "\t\t\t\t\tsize\n",
        "\t\t\t);\n",
        "\t}\n",
        "}"
      ],
      "execution_count": null,
      "outputs": []
    },
    {
      "cell_type": "code",
      "metadata": {
        "id": "FyNVf7VGLO82"
      },
      "source": [
        "!ls . TP6 TP6/utils\n",
        "#!cat TP6/utils/OPP/OPP_cuda_buffer.cuh\n",
        "#!cat TP6/CMakeLists.txt"
      ],
      "execution_count": null,
      "outputs": []
    },
    {
      "cell_type": "markdown",
      "metadata": {
        "id": "asx9OVL27puT"
      },
      "source": [
        "> ### <font color=green>Compilation</font>\n",
        "> Exécutez la cellule suivante pour compiler le code ..."
      ]
    },
    {
      "cell_type": "code",
      "metadata": {
        "id": "AP1UEc7h7zHg"
      },
      "source": [
        "!cd TP6 ; sh ./build.sh exo1"
      ],
      "execution_count": null,
      "outputs": []
    },
    {
      "cell_type": "markdown",
      "metadata": {
        "id": "w-UVrk2KUaYd"
      },
      "source": [
        "> ### <font color=green>Exécution</font>\n",
        "> Exécutez la cellule suivante pour exécuter le code ...\n",
        ">\n",
        "> Pour le rapport, jouez avec la taille (pour les statistiques, cela signifie prendre des tailles importantes ...). "
      ]
    },
    {
      "cell_type": "code",
      "metadata": {
        "id": "R_ulfYuX-Y_F"
      },
      "source": [
        "!./TP6/linux/exo1 -s=1024\n",
        "!./TP6/linux/exo1 -s=16384\n",
        "!./TP6/linux/exo1 -s=262144\n",
        "!./TP6/linux/exo1 -s=4194304\n",
        "!./TP6/linux/exo1 -s=67108864\n",
        "!./TP6/linux/exo1 -s=268435456"
      ],
      "execution_count": null,
      "outputs": []
    },
    {
      "cell_type": "markdown",
      "metadata": {
        "id": "pvbHriSPmCIr"
      },
      "source": [
        "## <font color=green>Exercice 2</font>\n",
        "\n",
        "> **La fonction à écrire reçoit deux images sous la forme de deux tableaux contenant les pixels (`uchar3`, au format R, G, B). Chaque tableau est organisé ligne par ligne. Votre fonction doit copier la première image dans la seconde, avec un effet vignette (cf. page 3). Cet effet consiste à ajouter un bord à chacun des $3\\times3$ blocs de l’image. La couleur du bord est le troisième paramètre de la fonction à écrire. La largeur (nombre de pixels) du bord est le dernier paramètre.**\n",
        ">\n",
        "> **<font color=pink>NB : pensez parallèle ! Un algorithme séquentiel est inadaptable ...</font>**\n",
        ">\n",
        "> ### <font color=green>Partie étudiante</font>\n",
        ">\n",
        "> La partie ci-dessous est pour vous. Répondez à l'exercice dans la cellule suivante. \n",
        ">\n",
        "> Pour sauvegarder, n'oubliez pas de terminer par \"Shift-Entrée\" ... \n",
        ">\n",
        "> **<font color=pink>Attention : ne touchez pas à la première ligne !</font>**\n"
      ]
    },
    {
      "cell_type": "code",
      "metadata": {
        "id": "QwCPhpdKU8tp"
      },
      "source": [
        "%%cuda --name ../TP6/student/exo2/student.cu\n",
        "#include <iostream>\n",
        "#include <exo2/student.h>\n",
        "#include <OPP_cuda.cuh>\n",
        "\n",
        "namespace \n",
        "{\n",
        "\t// NB : la fonction ci-dessous sert principalement à rendre le code plus lisible.\n",
        "\t//  Selon ce principe, plus une fonction est courte, et plus il est facile de la comprendre,\n",
        "\t//  et par effet de bord de la maintenir et déverminer ...\n",
        "\ttemplate<int TSIZE=3>\n",
        "\t__device__\n",
        "\tbool isOnBorder(\n",
        "\t\tconst unsigned x,\n",
        "\t\tconst unsigned y,\n",
        "\t\tconst unsigned borderSize, \n",
        "\t\tconst unsigned imageWidth, \n",
        "\t\tconst unsigned imageHeight\n",
        "\t) {\n",
        "\t\tconst auto thumbnailWidth = imageWidth / TSIZE;\n",
        "\t\tconst auto xInBlock = x % thumbnailWidth;\n",
        "\t\tconst auto thumbnailHeight = imageHeight / TSIZE;\n",
        "\t\tconst auto yInBlock = y % thumbnailHeight;\n",
        "\t\treturn \n",
        "\t\t\txInBlock < borderSize || \n",
        "\t\t\tyInBlock < borderSize || \n",
        "\t\t\txInBlock >= (thumbnailWidth-borderSize) || \n",
        "\t\t\tyInBlock >= (thumbnailHeight-borderSize);\n",
        "\t}\n",
        "\n",
        "\ttemplate<int TSIZE=3>\n",
        "\t__global__\n",
        "\tvoid thumbnailKernel(\n",
        "\t\tconst uchar3 * const input, \n",
        "\t\tuchar3 * const output, \n",
        "\t\tconst uchar3 borderColor, \n",
        "\t\tconst unsigned borderSize, \n",
        "\t\tconst unsigned imageWidth, \n",
        "\t\tconst unsigned imageHeight\n",
        "\t) {\n",
        "\t\t\tconst unsigned tidX = blockIdx.x * blockDim.x + threadIdx.x;\n",
        "\t\t\tconst unsigned tidY = blockIdx.y * blockDim.y + threadIdx.y;\n",
        "\t\t\t\n",
        "\t\t\tif (tidX < imageWidth && tidY < imageHeight) {\n",
        "\t\t\t\t\tconst unsigned offset = tidX + tidY * imageWidth;\n",
        "\n",
        "\t\t\t\t\toutput[offset] = \n",
        "\t\t\t\t\t\t\tisOnBorder<TSIZE>(tidX, tidY, borderSize, imageWidth, imageHeight) ?\n",
        "\t\t\t\t\t\t\tborderColor : input[offset];\n",
        "\t\t\t}\n",
        "\t}\n",
        "}\n",
        "\n",
        "bool StudentWorkImpl::isImplemented() const {\n",
        "\treturn true;\n",
        "}\n",
        "\n",
        "void StudentWorkImpl::run_thumbnail(\n",
        "\tOPP::CUDA::DeviceBuffer<uchar3>& dev_inputImage,\n",
        "\tOPP::CUDA::DeviceBuffer<uchar3>& dev_outputImage,\n",
        "\tconst uchar3 borderColor,\n",
        "\tconst unsigned borderSize,\n",
        "\tconst unsigned imageWidth, \n",
        "\tconst unsigned imageHeight\n",
        ") {\n",
        "\tconst dim3 threads(32, 32);\n",
        "\tconst dim3 blocs((imageWidth + 32 - 1) / 32, \n",
        "\t                 (imageHeight + 32 - 1) / 32);\n",
        "\n",
        "\tthumbnailKernel<<<blocs, threads>>>(\n",
        "\t\t\tdev_inputImage.getDevicePointer(),\n",
        "\t\t\tdev_outputImage.getDevicePointer(),\n",
        "\t\t\tborderColor,\n",
        "\t\t\tborderSize,\n",
        "\t\t\timageWidth,\n",
        "\t\t\timageHeight\n",
        "\t);\n",
        "}"
      ],
      "execution_count": null,
      "outputs": []
    },
    {
      "cell_type": "markdown",
      "metadata": {
        "id": "pIHRCxc7o-a0"
      },
      "source": [
        "> ### <font color=green>Compilation</font>\n",
        "> Exécutez la cellule suivante pour compiler le code ..."
      ]
    },
    {
      "cell_type": "code",
      "metadata": {
        "id": "Oh257QTWpE9S"
      },
      "source": [
        "!cd TP6 ; sh ./build.sh exo2"
      ],
      "execution_count": null,
      "outputs": []
    },
    {
      "cell_type": "markdown",
      "metadata": {
        "id": "ZBSA6TMVpl-i"
      },
      "source": [
        "> ### <font color=green>Exécution</font>\n",
        "> Exécutez les trois cellules suivantes pour exécuter le code (avec les images pré-chargées) ..."
      ]
    },
    {
      "cell_type": "code",
      "metadata": {
        "id": "EJFYweIipnzF"
      },
      "source": [
        "# launch student work\n",
        "!./TP6/linux/exo2 -i=./TP6/Images/Flower_600x450.ppm -b=3\n",
        "# display result\n",
        "afficher(file=\"./TP6/Images/Flower_600x450.ppm\", width = 600) \n",
        "afficher(file=\"./TP6/Images/Flower_600x450_thumbnail.ppm\", width = 600) \n",
        "# width = mettez une largeur en fonction de votre bande passante Internet "
      ],
      "execution_count": null,
      "outputs": []
    },
    {
      "cell_type": "code",
      "metadata": {
        "id": "zTi8FfgxptDp"
      },
      "source": [
        "# launch student work\n",
        "!./TP6/linux/exo2 -i=./TP6/Images/Raffael_012.ppm -b=3\n",
        "# display result\n",
        "afficher(\"./TP6/Images/Raffael_012_thumbnail.ppm\", 600)"
      ],
      "execution_count": null,
      "outputs": []
    },
    {
      "cell_type": "code",
      "metadata": {
        "id": "0K9pT0ItsRgl"
      },
      "source": [
        "# launch student work\n",
        "!./TP6/linux/exo2 -i=./TP6/Images/asphalt-highway.ppm -b=10\n",
        "# display result\n",
        "afficher(\"TP6/Images/asphalt-highway_thumbnail.ppm\", 800)"
      ],
      "execution_count": null,
      "outputs": []
    },
    {
      "cell_type": "markdown",
      "metadata": {
        "id": "FHZtnN_Lwnqi"
      },
      "source": [
        "## <font color=green>Exercice 3</font>\n",
        "\n",
        "> **Implémentez le patron GATHER.**\n",
        ">\n",
        "> ### <font color=green>Partie étudiante</font>\n",
        ">\n",
        "> La partie ci-dessous est pour vous. Répondez à l'exercice dans la cellule suivante. \n",
        ">\n",
        "> Pour sauvegarder, n'oubliez pas de terminer par \"Ctrl-Entrée\" ... \n",
        ">\n",
        "> **<font color=pink>Attention : ne touchez pas à la première ligne !</font>**\n"
      ]
    },
    {
      "cell_type": "code",
      "metadata": {
        "id": "0dzelQtXtY6V"
      },
      "source": [
        "%%cuda --name ../TP6/student/exo3/student.cu\n",
        "#include <iostream>\n",
        "#include <exo3/student.h>\n",
        "#include <OPP_cuda.cuh>\n",
        "#include <exo3/mapFunctor.h>\n",
        "\n",
        "namespace \n",
        "{\n",
        "\ttemplate<typename T, typename Functor>\n",
        "\t__global__\n",
        "\tvoid kernelGather(\n",
        "\t\t\tconst T* const dev_input, \n",
        "\t\t\tT* const dev_output, \n",
        "\t\t\tFunctor map\n",
        "\t) {\n",
        "\t\t\tconst unsigned tidX = blockIdx.x * blockDim.x + threadIdx.x;\n",
        "\t\t\tconst unsigned tidY = blockIdx.y * blockDim.y + threadIdx.y;\n",
        "\t\t\t\n",
        "\t\t\tif (tidX < map.imageWidth && tidY < map.imageHeight) {\n",
        "\t\t\t\t\tconst unsigned offset = tidX + tidY * map.imageWidth;\n",
        "\n",
        "\t \t\t\t\tdev_output[offset] = dev_input[map[offset]];\n",
        "\t\t\t}\t\t\n",
        "\t}\n",
        "\n",
        "\n",
        "\ttemplate<typename T, typename Functor>\n",
        "\t__host__\n",
        "\tvoid Gather(\n",
        "\t\tOPP::CUDA::DeviceBuffer<T>& dev_input,\n",
        "\t\tOPP::CUDA::DeviceBuffer<T>& dev_output,\n",
        "\t\tFunctor& map\n",
        "\t) {\n",
        "\t\t\tconst dim3 threads(32, 32);\n",
        "\t\t\tconst dim3 blocs((map.imageWidth + 32 - 1) / 32, \n",
        "\t                     (map.imageHeight + 32 - 1) / 32);\n",
        "\t\t\t\n",
        "\t\t\tkernelGather<<<blocs, threads>>>(\n",
        "\t\t\t\t\tdev_input.getDevicePointer(),\n",
        "\t\t\t\t\tdev_output.getDevicePointer(),\n",
        "\t\t\t\t\tmap\n",
        "\t\t\t);\n",
        "\t}\n",
        "}\n",
        "\n",
        "bool StudentWorkImpl::isImplemented() const {\n",
        "\treturn true;\n",
        "}\n",
        "\n",
        "void StudentWorkImpl::run_thumbnail_gather(\n",
        "\tOPP::CUDA::DeviceBuffer<uchar3>& dev_inputImage,\n",
        "\tOPP::CUDA::DeviceBuffer<uchar3>& dev_outputImage,\n",
        "\tOPP::CUDA::DeviceBuffer<uchar2>& dev_map,\n",
        "\tconst unsigned imageWidth, \n",
        "\tconst unsigned imageHeight\n",
        ") {\n",
        "\t::MapFunctor<3> map(\n",
        "\t\tdev_map.getDevicePointer(),\n",
        "\t\timageWidth,\n",
        "\t\timageHeight\n",
        "\t);\n",
        "\n",
        "\t::Gather<uchar3,MapFunctor<3>>(\n",
        "\t\tdev_inputImage, dev_outputImage, map\n",
        "\t);\n",
        "}"
      ],
      "execution_count": null,
      "outputs": []
    },
    {
      "cell_type": "markdown",
      "metadata": {
        "id": "YvoDexC8wGDT"
      },
      "source": [
        "> ### <font color=green>Compilation</font>\n",
        "> Exécutez la cellule suivante pour compiler le code ..."
      ]
    },
    {
      "cell_type": "code",
      "metadata": {
        "id": "SVGYZqY_wevx"
      },
      "source": [
        "!cd TP6 ; sh ./build.sh exo3"
      ],
      "execution_count": null,
      "outputs": []
    },
    {
      "cell_type": "markdown",
      "metadata": {
        "id": "cwF8WIwjxLKk"
      },
      "source": [
        "> ### <font color=green>Exécution</font>\n",
        "> Exécutez les trois cellules suivantes pour exécuter le code (avec les images pré-chargées) ..."
      ]
    },
    {
      "cell_type": "code",
      "metadata": {
        "id": "xuUA69WExFDo"
      },
      "source": [
        "# launch student work\n",
        "!./TP6/linux/exo3 -i=./TP6/Images/Flower_600x450_thumbnail.ppm\n",
        "# display result\n",
        "afficher(file=\"TP6/Images/Flower_600x450_thumbnail_gather.ppm\", width = 600)"
      ],
      "execution_count": null,
      "outputs": []
    },
    {
      "cell_type": "code",
      "metadata": {
        "id": "LjqmynVPx_Vu"
      },
      "source": [
        "# launch student work\n",
        "!./TP6/linux/exo3 -i=./TP6/Images/Raffael_012_thumbnail.ppm\n",
        "# display result\n",
        "afficher(\"TP6/Images/Raffael_012_thumbnail_gather.ppm\", 600)"
      ],
      "execution_count": null,
      "outputs": []
    },
    {
      "cell_type": "code",
      "metadata": {
        "id": "fZywCVQEyI8H"
      },
      "source": [
        "# launch student work\n",
        "!./TP6/linux/exo3 -i=./TP6/Images/asphalt-highway_thumbnail.ppm -b=3\n",
        "# display result\n",
        "afficher(\"TP6/Images/asphalt-highway_thumbnail_gather.ppm\", 800)"
      ],
      "execution_count": null,
      "outputs": []
    },
    {
      "cell_type": "markdown",
      "metadata": {
        "id": "zeO6fOD4yyXZ"
      },
      "source": [
        "## <font color=green>Exercice 4</font>\n",
        "\n",
        "> **Implémentez le patron SCATTER.**\n",
        ">\n",
        "> ### <font color=green>Partie étudiante</font>\n",
        ">\n",
        "> La partie ci-dessous est pour vous. Répondez à l'exercice dans la cellule suivante. \n",
        ">\n",
        "> Pour sauvegarder, n'oubliez pas de terminer par \"Ctrl-Entrée\" ... \n",
        ">\n",
        "> **<font color=pink>Attention : ne touchez pas à la première ligne !</font>**"
      ]
    },
    {
      "cell_type": "code",
      "metadata": {
        "id": "-JxKmfOJyY1-"
      },
      "source": [
        "%%cuda --name ../TP6/student/exo4/student.cu\n",
        "#include <iostream>\n",
        "#include <exo4/student.h>\n",
        "#include <exo3/mapFunctor.h>\n",
        "#include <OPP_cuda.cuh>\n",
        "\n",
        "namespace \n",
        "{\n",
        "\ttemplate<typename T, typename Functor>\n",
        "\t__global__\n",
        "\tvoid kernelScatter(\n",
        "\t\t\tconst T* const dev_input, \n",
        "\t\t\tT* const dev_output, \n",
        "\t\t\tFunctor map\n",
        "\t) {\n",
        "\t\t\tconst unsigned tidX = blockIdx.x * blockDim.x + threadIdx.x;\n",
        "\t\t\tconst unsigned tidY = blockIdx.y * blockDim.y + threadIdx.y;\n",
        "\t\t\t\n",
        "\t\t\tif (tidX < map.imageWidth && tidY < map.imageHeight) {\n",
        "\t\t\t\t\tconst unsigned offset = tidX + tidY * map.imageWidth;\n",
        "\n",
        "\t \t\t\t\tdev_output[offset] = dev_input[map[offset]];\n",
        "\t\t\t}\t\t\n",
        "\t}\n",
        "\n",
        "\ttemplate<typename T, typename Functor>\n",
        "\t__host__\n",
        "\tvoid Scatter(\n",
        "\t\tOPP::CUDA::DeviceBuffer<T>& dev_input,\n",
        "\t\tOPP::CUDA::DeviceBuffer<T>& dev_output,\n",
        "\t\tFunctor& map\n",
        "\t) {\n",
        "\t\t\tconst dim3 threads(32, 32);\n",
        "\t\t\tconst dim3 blocs((map.imageWidth + 32 - 1) / 32, \n",
        "\t                     (map.imageHeight + 32 - 1) / 32);\n",
        "\t\t\t \n",
        "\t\t\tkernelScatter<<<blocs, threads>>>(\n",
        "\t\t\t\t\tdev_input.getDevicePointer(),\n",
        "\t\t\t\t\tdev_output.getDevicePointer(),\n",
        "\t\t\t\t\tmap\n",
        "\t\t\t);\n",
        "\t}\n",
        "}\n",
        "\n",
        "bool StudentWorkImpl::isImplemented() const {\n",
        "\treturn true;\n",
        "}\n",
        "\n",
        "void StudentWorkImpl::run_thumbnail_scatter(\n",
        "\tOPP::CUDA::DeviceBuffer<uchar3>& dev_inputImage,\n",
        "\tOPP::CUDA::DeviceBuffer<uchar3>& dev_outputImage,\n",
        "\tOPP::CUDA::DeviceBuffer<uchar2>& dev_map,\n",
        "\tconst unsigned imageWidth, \n",
        "\tconst unsigned imageHeight\n",
        ") {\n",
        "\t::MapFunctor<3> map(\n",
        "\t\tdev_map.getDevicePointer(),\n",
        "\t\timageWidth,\n",
        "\t\timageHeight\n",
        "\t);\n",
        "\n",
        "\t::Scatter<uchar3,MapFunctor<3>>(\n",
        "\t\tdev_inputImage, dev_outputImage, map\n",
        "\t);\n",
        "}"
      ],
      "execution_count": null,
      "outputs": []
    },
    {
      "cell_type": "markdown",
      "metadata": {
        "id": "0zT2GUWczFbK"
      },
      "source": [
        "> ### <font color=green>Compilation</font>\n",
        "> Exécutez la cellule suivante pour compiler le code ..."
      ]
    },
    {
      "cell_type": "code",
      "metadata": {
        "id": "2S81nJcEzD3b"
      },
      "source": [
        "!cd TP6 ; sh ./build.sh exo4"
      ],
      "execution_count": null,
      "outputs": []
    },
    {
      "cell_type": "markdown",
      "metadata": {
        "id": "TS9cfqN7zUy2"
      },
      "source": [
        "> ### <font color=green>Exécution</font>\n",
        "> Exécutez les trois cellules suivantes pour exécuter le code (avec les images pré-chargées) ..."
      ]
    },
    {
      "cell_type": "code",
      "metadata": {
        "id": "evGevrWgzNFa"
      },
      "source": [
        "# launch student work\n",
        "!./TP6/linux/exo4 -i=./TP6/Images/Flower_600x450_thumbnail.ppm\n",
        "# display result\n",
        "afficher(file = \"TP6/Images/Flower_600x450_thumbnail_scatter.ppm\", width = 600)"
      ],
      "execution_count": null,
      "outputs": []
    },
    {
      "cell_type": "code",
      "metadata": {
        "id": "iTj-EoJmza_V"
      },
      "source": [
        "# launch student work\n",
        "!./TP6/linux/exo4 -i=./TP6/Images/Raffael_012_thumbnail.ppm\n",
        "# display result\n",
        "afficher(\"TP6/Images/Raffael_012_thumbnail_scatter.ppm\", 600)"
      ],
      "execution_count": null,
      "outputs": []
    },
    {
      "cell_type": "code",
      "metadata": {
        "id": "h5Yccm66ziE9"
      },
      "source": [
        "# launch student work\n",
        "!./TP6/linux/exo4 -i=./TP6/Images/asphalt-highway_thumbnail.ppm -b=3\n",
        "# display result\n",
        "afficher(\"TP6/Images/asphalt-highway_thumbnail_scatter.ppm\", 800)"
      ],
      "execution_count": null,
      "outputs": []
    },
    {
      "cell_type": "markdown",
      "metadata": {
        "id": "Z2noLsUYzrJe"
      },
      "source": [
        "## <font color=green>Exercice 5</font>\n",
        "\n",
        "> **Dans ce dernier exercice, il vous est demandé de tenir compte du mode d’accès à la mémoire globale depuis chaque warp (coalescence). L’idée est de filtrer une image (cf. page 5). Le filtre est une fonction fournie sous la forme d’un tableau de coefficients à appliquer pour calculer la valeur de chaque pixel de l’image produite. Il s’applique sur les pixels du voisinage du pixel de même position dans l’image source. Le filtre s’applique sur une grille carrée des voisins du pixel à filtrer, avec une taille impaire (e.g. $3\\times3$, $5\\times5$, $7\\times7$, $\\ldots$).</font>**\n",
        "> **Par exemple, si le filtre est de taille $3\\times3$, alors le calcul du pixel de position $\\left(x,y\\right)$ sera par composante R, G et B :**\n",
        ">\n",
        "> $$D\\left(x,y\\right)=\\sum_{i=0}^{2}\\sum_{j=0}^{2}F\\left(i,j\\right)\\times I\\left(x+i-1,y+j-1\\right),$$\n",
        ">\n",
        "> **avec $D$ l’image destination (celle à écrire), $I$ l’image source et $F$ la fonction à appliquer. Notez que les « -1 » dans les indices de l’images sources viennent de la taille du filtre (dans cet exemple). En général il faut utiliser `size/2`. Si `size` est 3, vous obtenez 1 ! Lorsque `size` vaut 5, le résultat est 2 ; pour `size=7` vous aurez 3, etc. Notez que les pixels « manquants » (proche du bord) sont obtenus en repliant l’image sur elle-même (symétrie axiale).**\n",
        ">\n",
        "> **Expérimentez différents schémas d’accès/répartition des calculs pour définir la taille de la grille correctement.**\n",
        ">\n",
        "> ### <font color=green>Partie étudiante</font>\n",
        ">\n",
        "> La partie ci-dessous est pour vous. Répondez à l'exercice dans la cellule suivante. \n",
        ">\n",
        "> Pour sauvegarder, n'oubliez pas de terminer par \"Ctrl-Entrée\" ... \n",
        ">\n",
        "> **<font color=pink>Attention : ne touchez pas à la première ligne !</font>**"
      ]
    },
    {
      "cell_type": "code",
      "metadata": {
        "id": "JXxpNyDSzost"
      },
      "source": [
        "%%cuda --name ../TP6/student/exo5/student.cu\n",
        "#include <iostream>\n",
        "#include <exo5/student.h>\n",
        "#include <OPP_cuda.cuh>\n",
        "\n",
        "namespace \n",
        "{\n",
        "\t// Vous utiliserez ici les types uchar3 et float3 (internet : CUDA uchar3)\n",
        "\t// Addition de deux \"float3\"\n",
        "\t__device__ \n",
        "\tfloat3 operator+(const float3 &a, const float3 &b)\n",
        "\t{\n",
        "\t\treturn make_float3(a.x + b.x, a.y + b.y, a.z + b.z);\n",
        "\t}\n",
        "\t\t__device__ \n",
        "\tfloat3 operator*(const float &a, const uchar3 &b)\n",
        "\t{\n",
        "\t\treturn make_float3(a* b.x, a * b.y, a * b.z);\n",
        "\t}\n",
        "\n",
        "\t__global__\n",
        "\tvoid kernelFilter(\n",
        "\t\t\tconst uchar3* const dev_input,\n",
        "\t\t\tuchar3* const dev_output,\n",
        "\t\t  float* filter,\n",
        "\t\t\tconst unsigned imageWidth,\n",
        "\t\t\tconst unsigned imageHeight,\n",
        "\t\t\tconst unsigned filterWidth\n",
        "\t) {\n",
        "\t\t\tconst unsigned tidX = blockIdx.x * blockDim.x + threadIdx.x;\n",
        "      const unsigned tidY = blockIdx.y * blockDim.y + threadIdx.y;\n",
        "\t\t\t \n",
        "\t\t\tif (tidX < imageWidth && tidY < imageHeight) {\n",
        "\t\t\t\t\tconst unsigned tid = tidX + tidY * imageWidth;\n",
        "\t\t\t\t\tfloat3 res = make_float3(0.0f, 0.0f, 0.0f);\n",
        "\t\t\t \n",
        "\t\t\t\t\tfor (unsigned i = 0; i < filterWidth; i++) {\n",
        "\t\t\t\t\t\t\tint X = tidX + i - filterWidth / 2;\n",
        "\n",
        "\t\t\t\t\t\t\tif (X < 0) {\n",
        "\t\t\t\t\t\t\t\t\tX = -X;\n",
        "\t\t\t\t\t\t\t} else if (X > imageWidth) {\n",
        "\t\t\t\t\t\t\t\t\tX = imageWidth - (X - imageWidth);\n",
        "\t\t\t\t\t\t\t}\n",
        "\n",
        "\t\t\t\t\t\t\tfor (unsigned j = 0; j < filterWidth; j++) {\n",
        "\t\t\t\t\t\t\t\t\tint Y = tidY + j - filterWidth / 2;\n",
        "\n",
        "\t\t\t\t\t\t\t\t\tif (Y < 0) {\n",
        "\t\t\t\t\t\t\t\t\t\t\tY = -Y;\n",
        "\t\t\t\t\t\t\t\t\t} else if (Y > imageHeight) {\n",
        "\t\t\t\t\t\t\t\t\t\t\tY = imageHeight - (Y - imageHeight);\n",
        "\t\t\t\t\t\t\t\t\t}\n",
        "\n",
        "\t\t\t\t\t\t\t\t\tres = res + filter[i * filterWidth + j] * dev_input[X + Y * imageWidth];\n",
        "\t\t\t\t\t\t\t}\n",
        "\t\t\t\t\t}\n",
        "\n",
        "\t\t\t\t\tdev_output[tid] = make_uchar3(\n",
        "\t\t\t\t\t\t\tstatic_cast<unsigned char>(res.x), \n",
        "\t\t\t\t\t\t\tstatic_cast<unsigned char>(res.y), \n",
        "\t\t\t\t\t\t\tstatic_cast<unsigned char>(res.z));\t\t\t\n",
        "\t\t\t}\n",
        "\t}\n",
        "}\n",
        "\n",
        "bool StudentWorkImpl::isImplemented() const {\n",
        "\treturn true;\n",
        "}\n",
        "\n",
        "void StudentWorkImpl::run_filter(\n",
        "\tOPP::CUDA::DeviceBuffer<uchar3>& dev_inputImage,\n",
        "\tOPP::CUDA::DeviceBuffer<uchar3>& dev_outputImage,\n",
        "\tOPP::CUDA::DeviceBuffer<float>& dev_filter,\n",
        "\tconst unsigned imageWidth, \n",
        "\tconst unsigned imageHeight,\n",
        "\tconst unsigned filterWidth\n",
        ") {\n",
        "\t\tconst unsigned size = dev_inputImage.getNbElements();\n",
        "\t\t\t \n",
        "\t\tconst dim3 threads(32, 32);\n",
        "\t  const dim3 blocs((imageWidth + 32 - 1) / 32, \n",
        "\t                   (imageHeight + 32 - 1) / 32);\n",
        "\t\t\t\n",
        "\t\tkernelFilter<<<blocs, threads>>>(\n",
        "\t\t\t\tdev_inputImage.getDevicePointer(),\n",
        "\t\t\t\tdev_outputImage.getDevicePointer(),\n",
        "\t\t\t\tdev_filter.getDevicePointer(),\n",
        "\t\t\t\timageWidth,\n",
        "\t\t\t\timageHeight,\n",
        "\t\t\t\tfilterWidth\n",
        "\t\t\t);\n",
        "}"
      ],
      "execution_count": null,
      "outputs": []
    },
    {
      "cell_type": "markdown",
      "metadata": {
        "id": "P795htTf00eo"
      },
      "source": [
        "> ### <font color=green>Compilation</font>\n",
        "> Exécutez la cellule suivante pour compiler le code ..."
      ]
    },
    {
      "cell_type": "code",
      "metadata": {
        "id": "1WuW0YMf0zIH"
      },
      "source": [
        "!cd TP6 ; sh ./build.sh exo5"
      ],
      "execution_count": null,
      "outputs": []
    },
    {
      "cell_type": "markdown",
      "metadata": {
        "id": "KfKbA3bj0_01"
      },
      "source": [
        "> ### <font color=green>Exécution</font>\n",
        "> Exécutez les trois cellules suivantes pour exécuter le code (avec les images pré-chargées) ...\n",
        ">\n",
        "> Pour le rapport, jouez avec la taille (pour les statistiques). "
      ]
    },
    {
      "cell_type": "code",
      "metadata": {
        "id": "TZx0x7vP08Gb"
      },
      "source": [
        "# launch student work\n",
        "!./TP6/linux/exo5 -i=./TP6/Images/Flower_600x450.ppm -f=11\n",
        "# display result\n",
        "afficher(\"TP6/Images/Flower_600x450_filtered.ppm\", 600)"
      ],
      "execution_count": null,
      "outputs": []
    },
    {
      "cell_type": "code",
      "metadata": {
        "id": "kwDjMI0r1NuX"
      },
      "source": [
        "# launch student work\n",
        "!./TP6/linux/exo5 -i=./TP6/Images/Raffael_012.ppm -f=15\n",
        "# display result\n",
        "afficher(\"TP6/Images/Raffael_012_filtered.ppm\", 600)"
      ],
      "execution_count": null,
      "outputs": []
    },
    {
      "cell_type": "code",
      "metadata": {
        "id": "c66D-OJ11ahY"
      },
      "source": [
        "# launch student work\n",
        "!./TP6/linux/exo5 -i=./TP6/Images/asphalt-highway.ppm -f=63\n",
        "# display result\n",
        "afficher(\"TP6/Images/asphalt-highway_filtered.ppm\", 800)"
      ],
      "execution_count": null,
      "outputs": []
    },
    {
      "cell_type": "markdown",
      "metadata": {
        "id": "zZiGcbya2TwT"
      },
      "source": [
        "# <font color=green>That's all, folks!</font>"
      ]
    }
  ]
}